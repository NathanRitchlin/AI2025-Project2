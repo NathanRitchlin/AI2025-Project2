{
 "cells": [
  {
   "metadata": {
    "ExecuteTime": {
     "end_time": "2025-10-01T18:34:23.713485Z",
     "start_time": "2025-10-01T18:34:23.707437Z"
    }
   },
   "cell_type": "code",
   "outputs": [],
   "execution_count": 83,
   "source": [
    "class WumpusPuzzle:\n",
    "    def __init__(self, s, a, q, qa, p):\n",
    "        self.size = s\n",
    "        self.arrows = a\n",
    "        self.query = q\n",
    "        self.queryAnswer = qa\n",
    "        self.path = p\n",
    "\n"
   ],
   "id": "d6946db872517d05"
  },
  {
   "metadata": {},
   "cell_type": "code",
   "outputs": [],
   "execution_count": null,
   "source": [
    "class Clause:\n",
    "    def __init__(self, l, d):\n",
    "        self.literals = l\n",
    "        self.isDisjunction = d\n",
    "        self.isConjunction = not d"
   ],
   "id": "cac233a74161f8e4"
  },
  {
   "metadata": {
    "ExecuteTime": {
     "end_time": "2025-10-01T18:34:23.752192Z",
     "start_time": "2025-10-01T18:34:23.748701Z"
    }
   },
   "cell_type": "code",
   "outputs": [],
   "execution_count": null,
   "source": [
    "class Literal:\n",
    "    def __init__(self, n, p):\n",
    "        self.negation = n\n",
    "        self.predicate = p\n",
    "\n",
    "    def getValue(self):\n",
    "        if self.negation:\n",
    "            return self.predicate\n",
    "        else:\n",
    "            return not self.predicate\n"
   ],
   "id": "613753831688b993"
  },
  {
   "metadata": {
    "ExecuteTime": {
     "end_time": "2025-10-01T18:34:23.766820Z",
     "start_time": "2025-10-01T18:34:23.762915Z"
    }
   },
   "cell_type": "code",
   "source": [
    "class Predicate:\n",
    "    def __init__(self, v, func):\n",
    "        self.variables = v\n",
    "        self.truthValue = func(v)\n",
    "\n"
   ],
   "id": "754d3a0bc25a7cd7",
   "outputs": [],
   "execution_count": 84
  },
  {
   "metadata": {
    "collapsed": true,
    "ExecuteTime": {
     "end_time": "2025-10-01T18:34:23.797601Z",
     "start_time": "2025-10-01T18:34:23.784608Z"
    }
   },
   "cell_type": "code",
   "source": [
    "PuzzleFile = 'AI2025-Project2/Caves/_wumpus_paths_/easy/path_e3.txt'\n",
    "\n",
    "def processFile(fileName):\n",
    "    with open(fileName, 'r', encoding='utf-8-sig') as file:\n",
    "        content = file.read().strip()\n",
    "        result = content.split(\"\\n\")\n",
    "        result2 = result[0].split(\"GRID: \")\n",
    "        xAxis = int(result2[1].split(\"x\")[0])\n",
    "        yAxis = int(result2[1].split(\"x\")[1])\n",
    "        size = [xAxis, yAxis]\n",
    "        result3 = result[1].split(\"ARROWS: \")\n",
    "        arrows = int(result3[1])\n",
    "        index = 3\n",
    "        path = result[index]\n",
    "        pathArr = []\n",
    "        while(path != ''):\n",
    "            pathStr = path.strip().split(\"(\")[1].split(\")\")\n",
    "            xVal = int(pathStr[0].split(\",\")[0])\n",
    "            yVal = int(pathStr[0].split(\",\")[1])\n",
    "            breezeVal = pathStr[1].split(\"B:\")[1][0]\n",
    "            stenchVal = pathStr[1].split(\"S:\")[1][0]\n",
    "            pathVal = [(xVal, yVal), breezeVal, stenchVal]\n",
    "            pathArr.append(pathVal)\n",
    "            index+=1\n",
    "            path = result[index]\n",
    "        queryResult = result[index+1].split(\"QUERY: \")[1].split(',')\n",
    "        query = [int(queryResult[0][1:]), int(queryResult[1][:-1])]\n",
    "        resolution = result[index+2].split(\"RESOLUTION:\")[1].strip()\n",
    "        puzzle = WumpusPuzzle(size, arrows, query, resolution, pathArr)\n",
    "        print(size)\n",
    "        print(arrows)\n",
    "        print(pathArr)\n",
    "        print(query)\n",
    "        print(resolution)\n",
    "        return puzzle\n",
    "\n",
    "puzzle = processFile(PuzzleFile)"
   ],
   "id": "477fe00458f8e375",
   "outputs": [
    {
     "name": "stdout",
     "output_type": "stream",
     "text": [
      "[20, 20]\n",
      "2\n",
      "[[(0, 0), 'F', 'F'], [(1, 0), 'F', 'T'], [(2, 0), 'F', 'F'], [(2, 1), 'F', 'T'], [(3, 1), 'F', 'T'], [(4, 1), 'F', 'F'], [(4, 2), 'F', 'T'], [(5, 2), 'F', 'F'], [(5, 3), 'T', 'F'], [(4, 3), 'F', 'F'], [(3, 3), 'T', 'T'], [(2, 3), 'F', 'F'], [(2, 2), 'F', 'T']]\n",
      "[1, 2]\n",
      "SAFE\n"
     ]
    }
   ],
   "execution_count": 85
  },
  {
   "metadata": {
    "ExecuteTime": {
     "end_time": "2025-10-01T18:34:23.816988Z",
     "start_time": "2025-10-01T18:34:23.814247Z"
    }
   },
   "cell_type": "code",
   "source": "",
   "id": "75408b310d3f6a35",
   "outputs": [],
   "execution_count": null
  }
 ],
 "metadata": {
  "kernelspec": {
   "display_name": "Python 3",
   "language": "python",
   "name": "python3"
  },
  "language_info": {
   "codemirror_mode": {
    "name": "ipython",
    "version": 2
   },
   "file_extension": ".py",
   "mimetype": "text/x-python",
   "name": "python",
   "nbconvert_exporter": "python",
   "pygments_lexer": "ipython2",
   "version": "2.7.6"
  }
 },
 "nbformat": 4,
 "nbformat_minor": 5
}
