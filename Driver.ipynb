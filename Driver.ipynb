{
 "cells": [
  {
   "metadata": {
    "ExecuteTime": {
     "end_time": "2025-10-03T17:38:33.760236Z",
     "start_time": "2025-10-03T17:38:33.751499Z"
    }
   },
   "cell_type": "code",
   "source": [
    "import copy\n",
    "\n",
    "\n",
    "class WumpusPuzzle:\n",
    "    def __init__(self, s, a, q, qa, p):\n",
    "        self.size = s\n",
    "        self.arrows = a\n",
    "        self.query = q\n",
    "        self.queryAnswer = qa\n",
    "        self.path = p"
   ],
   "id": "d6946db872517d05",
   "outputs": [],
   "execution_count": 193
  },
  {
   "metadata": {
    "ExecuteTime": {
     "end_time": "2025-10-03T17:38:33.783290Z",
     "start_time": "2025-10-03T17:38:33.779661Z"
    }
   },
   "cell_type": "code",
   "source": [
    "class Clause:\n",
    "    def __init__(self, l, c):\n",
    "        #list of literals\n",
    "        self.literals = l\n",
    "        #booleans\n",
    "        self.isDisjunction = not c\n",
    "        self.isConjunction = c"
   ],
   "id": "cac233a74161f8e4",
   "outputs": [],
   "execution_count": 194
  },
  {
   "metadata": {
    "ExecuteTime": {
     "end_time": "2025-10-03T17:38:33.795250Z",
     "start_time": "2025-10-03T17:38:33.791049Z"
    }
   },
   "cell_type": "code",
   "source": [
    "class Literal:\n",
    "    def __init__(self, p, n):\n",
    "        #boolean\n",
    "        self.negation = n\n",
    "        #predicate\n",
    "        self.predicate = p\n",
    "\n",
    "    def getValue(self):\n",
    "        if(self.predicate.truthValue == None):\n",
    "            return None\n",
    "        if self.negation:\n",
    "            return self.predicate.truthValue\n",
    "        else:\n",
    "            return not self.predicate.truthValue\n"
   ],
   "id": "613753831688b993",
   "outputs": [],
   "execution_count": 195
  },
  {
   "metadata": {
    "ExecuteTime": {
     "end_time": "2025-10-03T17:38:33.805654Z",
     "start_time": "2025-10-03T17:38:33.801079Z"
    }
   },
   "cell_type": "code",
   "source": [
    "def literalsCancel(literal1, literal2):\n",
    "    if((literal1.predicate.equalsOther(literal2.predicate)) and (literal1.negation != literal2.negation)):\n",
    "        return True\n",
    "    else:\n",
    "        return False\n"
   ],
   "id": "74278c7fbefb42b9",
   "outputs": [],
   "execution_count": 196
  },
  {
   "metadata": {
    "ExecuteTime": {
     "end_time": "2025-10-03T17:38:33.815616Z",
     "start_time": "2025-10-03T17:38:33.811679Z"
    }
   },
   "cell_type": "code",
   "source": [
    "class Predicate:\n",
    "    def __init__(self, v, func):\n",
    "        self.variables = v\n",
    "        self.function = func\n",
    "        self.truthValue = func(v)\n",
    "\n",
    "    def equalsOther(self, otherPredicate):\n",
    "        if(self.variables == otherPredicate.variables and self.function == otherPredicate.function):\n",
    "            return True\n",
    "        return False\n"
   ],
   "id": "754d3a0bc25a7cd7",
   "outputs": [],
   "execution_count": 197
  },
  {
   "metadata": {
    "ExecuteTime": {
     "end_time": "2025-10-03T17:38:33.826066Z",
     "start_time": "2025-10-03T17:38:33.822616Z"
    }
   },
   "cell_type": "code",
   "source": [
    "def Cat(value):\n",
    "    if(value[0].name == 'Tuna'):\n",
    "        return True\n",
    "    if(value[0].name == None):\n",
    "        return None\n",
    "    return False\n"
   ],
   "id": "dcd9218e92997af7",
   "outputs": [],
   "execution_count": 198
  },
  {
   "metadata": {
    "ExecuteTime": {
     "end_time": "2025-10-03T17:38:33.835769Z",
     "start_time": "2025-10-03T17:38:33.832319Z"
    }
   },
   "cell_type": "code",
   "source": [
    "def Loves(values):\n",
    "    if(values[1] in values[0].loves):\n",
    "        return True\n",
    "    return False\n"
   ],
   "id": "c49dc7f7bc183a19",
   "outputs": [],
   "execution_count": 199
  },
  {
   "metadata": {
    "ExecuteTime": {
     "end_time": "2025-10-03T17:38:33.844056Z",
     "start_time": "2025-10-03T17:38:33.840770Z"
    }
   },
   "cell_type": "code",
   "source": [
    "def Animal(values):\n",
    "    if(values[0].isAnimal):\n",
    "        return True\n",
    "    return False"
   ],
   "id": "5d4e7c39f66c7ade",
   "outputs": [],
   "execution_count": 200
  },
  {
   "metadata": {
    "ExecuteTime": {
     "end_time": "2025-10-03T17:38:33.854508Z",
     "start_time": "2025-10-03T17:38:33.850737Z"
    }
   },
   "cell_type": "code",
   "source": [
    "def Kills(values):\n",
    "    if(values[1] in values[0].kills):\n",
    "        return True\n",
    "    return False"
   ],
   "id": "80a1547172637f04",
   "outputs": [],
   "execution_count": 201
  },
  {
   "metadata": {
    "ExecuteTime": {
     "end_time": "2025-10-03T17:38:33.865166Z",
     "start_time": "2025-10-03T17:38:33.861465Z"
    }
   },
   "cell_type": "code",
   "source": [
    "class toyVariable:\n",
    "    def __init__(self, n, a, l, k):\n",
    "        #string\n",
    "        self.name = n\n",
    "        #boolean\n",
    "        self.isAnimal = a\n",
    "        #lists\n",
    "        self.loves = l\n",
    "        self.kills = k\n"
   ],
   "id": "17dfc899e6038a6f",
   "outputs": [],
   "execution_count": 202
  },
  {
   "metadata": {
    "ExecuteTime": {
     "end_time": "2025-10-03T17:38:33.876828Z",
     "start_time": "2025-10-03T17:38:33.872078Z"
    }
   },
   "cell_type": "code",
   "source": [
    "def resolution(KB, query):\n",
    "    clauses = copy.deepcopy(KB)\n",
    "    clauses.append(query)\n",
    "    new = set()\n",
    "    while(True):\n",
    "        clausePairs = set()\n",
    "        #setting up all pairs of clauses\n",
    "        for clause in clauses:\n",
    "            for clause2 in clauses:\n",
    "                if(clause != clause2):\n",
    "                    clausePairs.add([clause, clause2])\n",
    "        for pair in clausePairs:\n",
    "            resolvents = resolve(pair[0], pair[1])\n",
    "            if(resolvents == None):\n",
    "                return True\n",
    "            else:\n",
    "                new.add(resolvents)\n",
    "        if(new.issubset(clauses)):\n",
    "            return False\n",
    "        clauses = clauses.union(new)\n",
    "\n",
    "\n",
    "def resolve(clause1, clause2):\n",
    "    returnedClauses = []\n",
    "    for literal1 in clause1.literals:\n",
    "        for literal2 in clause2.literals:\n",
    "            if(literalsCancel(literal1,literal2)):\n",
    "                clause1.literals.remove(literal1)\n",
    "                clause2.literals.remove(literal2)\n",
    "    returnedClauses.append(clause1)\n",
    "    returnedClauses.append(clause2)\n",
    "\n",
    "\n",
    "\n",
    "\n"
   ],
   "id": "af29a8793ab011fb",
   "outputs": [],
   "execution_count": 203
  },
  {
   "metadata": {
    "collapsed": true,
    "ExecuteTime": {
     "end_time": "2025-10-03T17:38:33.895497Z",
     "start_time": "2025-10-03T17:38:33.888567Z"
    }
   },
   "cell_type": "code",
   "source": [
    "PuzzleFile = 'Caves/_wumpus_paths_/easy/path_e3.txt'\n",
    "\n",
    "def processFile(fileName):\n",
    "    with open(fileName, 'r', encoding='utf-8-sig') as file:\n",
    "        content = file.read().strip()\n",
    "        result = content.split(\"\\n\")\n",
    "        result2 = result[0].split(\"GRID: \")\n",
    "        xAxis = int(result2[1].split(\"x\")[0])\n",
    "        yAxis = int(result2[1].split(\"x\")[1])\n",
    "        size = [xAxis, yAxis]\n",
    "        result3 = result[1].split(\"ARROWS: \")\n",
    "        arrows = int(result3[1])\n",
    "        index = 3\n",
    "        path = result[index]\n",
    "        pathArr = []\n",
    "        while(path != ''):\n",
    "            pathStr = path.strip().split(\"(\")[1].split(\")\")\n",
    "            xVal = int(pathStr[0].split(\",\")[0])\n",
    "            yVal = int(pathStr[0].split(\",\")[1])\n",
    "            breezeVal = pathStr[1].split(\"B:\")[1][0]\n",
    "            stenchVal = pathStr[1].split(\"S:\")[1][0]\n",
    "            pathVal = [(xVal, yVal), breezeVal, stenchVal]\n",
    "            pathArr.append(pathVal)\n",
    "            index+=1\n",
    "            path = result[index]\n",
    "        queryResult = result[index+1].split(\"QUERY: \")[1].split(',')\n",
    "        query = [int(queryResult[0][1:]), int(queryResult[1][:-1])]\n",
    "        resolution = result[index+2].split(\"RESOLUTION:\")[1].strip()\n",
    "        puzzle = WumpusPuzzle(size, arrows, query, resolution, pathArr)\n",
    "        print(size)\n",
    "        print(arrows)\n",
    "        print(pathArr)\n",
    "        print(query)\n",
    "        print(resolution)\n",
    "        return puzzle\n",
    "\n",
    "puzzle = processFile(PuzzleFile)"
   ],
   "id": "477fe00458f8e375",
   "outputs": [
    {
     "name": "stdout",
     "output_type": "stream",
     "text": [
      "[20, 20]\n",
      "2\n",
      "[[(0, 0), 'F', 'F'], [(1, 0), 'F', 'T'], [(2, 0), 'F', 'F'], [(2, 1), 'F', 'T'], [(3, 1), 'F', 'T'], [(4, 1), 'F', 'F'], [(4, 2), 'F', 'T'], [(5, 2), 'F', 'F'], [(5, 3), 'T', 'F'], [(4, 3), 'F', 'F'], [(3, 3), 'T', 'T'], [(2, 3), 'F', 'F'], [(2, 2), 'F', 'T']]\n",
      "[1, 2]\n",
      "SAFE\n"
     ]
    }
   ],
   "execution_count": 204
  },
  {
   "metadata": {
    "tags": [
     "Toy Problem"
    ],
    "ExecuteTime": {
     "end_time": "2025-10-03T17:38:33.925227Z",
     "start_time": "2025-10-03T17:38:33.916909Z"
    }
   },
   "cell_type": "code",
   "source": [
    "KB = set()\n",
    "\n",
    "Tuna = toyVariable(\"Tuna\", None, [], [])\n",
    "Jack = toyVariable(\"Jack\", None, [], [])\n",
    "Curiosity = toyVariable(\"Curiosity\", None, [], [])\n",
    "x = toyVariable(None, True, [], [])\n",
    "fx = toyVariable(None, True, [], [])\n",
    "gx = toyVariable(None, True, [], [])\n",
    "y = toyVariable(None, True, [], [])\n",
    "z = toyVariable(None, True, [], [])\n",
    "\n",
    "\n",
    "\n",
    "p = Predicate([Tuna], Cat)\n",
    "l = Literal(p, True)\n",
    "rule6 = Clause([l], False)\n",
    "\n",
    "p = Predicate([x], Cat)\n",
    "l = Literal(p, False)\n",
    "p = Predicate([x], Animal)\n",
    "l2 = Literal(p, True)\n",
    "rule7 = Clause([l,l2], False)\n",
    "\n",
    "p = Predicate([fx], Animal)\n",
    "l = Literal(p, True)\n",
    "p = Predicate([gx, x], Loves)\n",
    "l2 = Literal(p, True)\n",
    "rule1 = Clause([l,l2], False)\n",
    "\n",
    "\n",
    "p = Predicate([x, fx], Loves)\n",
    "l = Literal(p, False)\n",
    "p = Predicate([gx, x], Loves)\n",
    "l2 = Literal(p, True)\n",
    "rule2 = Clause([l,l2], False)\n",
    "\n",
    "p = Predicate([y, x], Loves)\n",
    "l = Literal(p, False)\n",
    "p = Predicate([z], Animal)\n",
    "l2 = Literal(p, False)\n",
    "p = Predicate([x,z], Kills)\n",
    "l3 = Literal(p, False)\n",
    "rule3 = Clause([l,l2,l3], False)\n",
    "\n",
    "p = Predicate([x], Animal)\n",
    "l = Literal(p, False)\n",
    "p = Predicate([Jack, x], Loves)\n",
    "l2 = Literal(p, True)\n",
    "rule4 = Clause([l,l2], False)\n",
    "\n",
    "p = Predicate([Jack,Tuna], Kills)\n",
    "l = Literal(p, True)\n",
    "p = Predicate([Curiosity,Tuna], Kills)\n",
    "l2 = Literal(p, True)\n",
    "rule5 = Clause([l,l2], False)\n",
    "\n",
    "KB.add(rule1)\n",
    "KB.add(rule2)\n",
    "KB.add(rule3)\n",
    "KB.add(rule4)\n",
    "KB.add(rule5)\n",
    "KB.add(rule6)\n",
    "KB.add(rule7)\n",
    "\n",
    "\n",
    "#Testing literal cancel checking function\n",
    "p = Predicate([Jack,Tuna], Kills)\n",
    "l = Literal(p, True)\n",
    "p = Predicate([Jack,Tuna], Kills)\n",
    "l2 = Literal(p, False)\n",
    "print(literalsCancel(l,l2))"
   ],
   "id": "75408b310d3f6a35",
   "outputs": [
    {
     "name": "stdout",
     "output_type": "stream",
     "text": [
      "True\n"
     ]
    }
   ],
   "execution_count": 205
  },
  {
   "metadata": {
    "ExecuteTime": {
     "end_time": "2025-10-03T17:38:33.937601Z",
     "start_time": "2025-10-03T17:38:33.935158Z"
    }
   },
   "cell_type": "code",
   "source": "",
   "id": "73d638d4e8a94825",
   "outputs": [],
   "execution_count": null
  }
 ],
 "metadata": {
  "kernelspec": {
   "display_name": "Python 3",
   "language": "python",
   "name": "python3"
  },
  "language_info": {
   "codemirror_mode": {
    "name": "ipython",
    "version": 2
   },
   "file_extension": ".py",
   "mimetype": "text/x-python",
   "name": "python",
   "nbconvert_exporter": "python",
   "pygments_lexer": "ipython2",
   "version": "2.7.6"
  }
 },
 "nbformat": 4,
 "nbformat_minor": 5
}
