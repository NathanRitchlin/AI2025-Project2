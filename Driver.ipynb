{
 "cells": [
  {
   "metadata": {
    "ExecuteTime": {
     "end_time": "2025-10-02T19:36:50.178529Z",
     "start_time": "2025-10-02T19:36:50.173104Z"
    }
   },
   "cell_type": "code",
   "source": [
    "import copy\n",
    "\n",
    "\n",
    "class WumpusPuzzle:\n",
    "    def __init__(self, s, a, q, qa, p):\n",
    "        self.size = s\n",
    "        self.arrows = a\n",
    "        self.query = q\n",
    "        self.queryAnswer = qa\n",
    "        self.path = p"
   ],
   "id": "d6946db872517d05",
   "outputs": [],
   "execution_count": 87
  },
  {
   "metadata": {
    "ExecuteTime": {
     "end_time": "2025-10-02T19:36:50.197765Z",
     "start_time": "2025-10-02T19:36:50.194515Z"
    }
   },
   "cell_type": "code",
   "source": [
    "class Clause:\n",
    "    def __init__(self, l, c):\n",
    "        #list of literals\n",
    "        self.literals = l\n",
    "        #booleans\n",
    "        self.isDisjunction = not c\n",
    "        self.isConjunction = c"
   ],
   "id": "cac233a74161f8e4",
   "outputs": [],
   "execution_count": 88
  },
  {
   "metadata": {
    "ExecuteTime": {
     "end_time": "2025-10-02T19:36:50.207087Z",
     "start_time": "2025-10-02T19:36:50.203209Z"
    }
   },
   "cell_type": "code",
   "source": [
    "class Literal:\n",
    "    def __init__(self, p, n):\n",
    "        #boolean\n",
    "        self.negation = n\n",
    "        #predicate\n",
    "        self.predicate = p\n",
    "\n",
    "    def getValue(self):\n",
    "        if(self.predicate.truthValue == None):\n",
    "            return None\n",
    "        if self.negation:\n",
    "            return self.predicate.truthValue\n",
    "        else:\n",
    "            return not self.predicate.truthValue\n"
   ],
   "id": "613753831688b993",
   "outputs": [],
   "execution_count": 89
  },
  {
   "metadata": {
    "ExecuteTime": {
     "end_time": "2025-10-02T19:36:50.214915Z",
     "start_time": "2025-10-02T19:36:50.212337Z"
    }
   },
   "cell_type": "code",
   "source": [
    "class Predicate:\n",
    "    def __init__(self, v, func):\n",
    "        self.variables = v\n",
    "        self.truthValue = func(v)"
   ],
   "id": "754d3a0bc25a7cd7",
   "outputs": [],
   "execution_count": 90
  },
  {
   "metadata": {
    "ExecuteTime": {
     "end_time": "2025-10-02T19:36:50.224049Z",
     "start_time": "2025-10-02T19:36:50.221257Z"
    }
   },
   "cell_type": "code",
   "source": [
    "def Cat(value):\n",
    "    if(value[0].name == 'Tuna'):\n",
    "        return True\n",
    "    if(value[0].name == None):\n",
    "        return None\n",
    "    return False\n"
   ],
   "id": "dcd9218e92997af7",
   "outputs": [],
   "execution_count": 91
  },
  {
   "metadata": {
    "ExecuteTime": {
     "end_time": "2025-10-02T19:36:50.231242Z",
     "start_time": "2025-10-02T19:36:50.228509Z"
    }
   },
   "cell_type": "code",
   "source": [
    "def Loves(values):\n",
    "    if(values[1] in values[0].loves):\n",
    "        return True\n",
    "    return False"
   ],
   "id": "c49dc7f7bc183a19",
   "outputs": [],
   "execution_count": 92
  },
  {
   "metadata": {
    "ExecuteTime": {
     "end_time": "2025-10-02T19:36:50.240279Z",
     "start_time": "2025-10-02T19:36:50.236985Z"
    }
   },
   "cell_type": "code",
   "source": [
    "def Animal(values):\n",
    "    if(values[0].isAnimal):\n",
    "        return True\n",
    "    return False"
   ],
   "id": "5d4e7c39f66c7ade",
   "outputs": [],
   "execution_count": 93
  },
  {
   "metadata": {
    "ExecuteTime": {
     "end_time": "2025-10-02T19:36:50.247604Z",
     "start_time": "2025-10-02T19:36:50.245184Z"
    }
   },
   "cell_type": "code",
   "source": [
    "def Kills(values):\n",
    "    if(values[1] in values[0].kills):\n",
    "        return True\n",
    "    return False"
   ],
   "id": "80a1547172637f04",
   "outputs": [],
   "execution_count": 94
  },
  {
   "metadata": {
    "ExecuteTime": {
     "end_time": "2025-10-02T19:36:50.256426Z",
     "start_time": "2025-10-02T19:36:50.252689Z"
    }
   },
   "cell_type": "code",
   "source": [
    "class toyVariable:\n",
    "    def __init__(self, n, a, l, k):\n",
    "        #string\n",
    "        self.name = n\n",
    "        #boolean\n",
    "        self.isAnimal = a\n",
    "        #lists\n",
    "        self.loves = l\n",
    "        self.kills = k\n"
   ],
   "id": "17dfc899e6038a6f",
   "outputs": [],
   "execution_count": 95
  },
  {
   "metadata": {},
   "cell_type": "code",
   "outputs": [],
   "execution_count": null,
   "source": [
    "def resolution(KB, query):\n",
    "    clauses = copy.deepcopy(KB)\n",
    "    clauses.append(query)\n",
    "    new = {}\n",
    "    while(True):\n",
    "        clausePairs = {}\n",
    "        #setting up all pairs of clauses\n",
    "        for clause in clauses:\n",
    "            for clause2 in clauses:\n",
    "                if(clause != clause2):\n",
    "                    clausePairs.add([clause, clause2])\n",
    "        for pair in clausePairs:\n",
    "            resolvents = resolve(pair[0], pair[1])\n",
    "            if(resolvents == None):\n",
    "                return True\n",
    "            else:\n",
    "                new.add(resolvents)\n",
    "        if(new.issubset(clauses)):\n",
    "            return False\n",
    "        clauses = clauses.union(new)\n",
    "\n",
    "\n",
    "def resolve(clause1, clause2):\n",
    "    return None\n",
    "\n"
   ],
   "id": "af29a8793ab011fb"
  },
  {
   "metadata": {
    "collapsed": true,
    "ExecuteTime": {
     "end_time": "2025-10-02T19:36:50.268394Z",
     "start_time": "2025-10-02T19:36:50.262202Z"
    }
   },
   "cell_type": "code",
   "source": [
    "PuzzleFile = 'Caves/_wumpus_paths_/easy/path_e3.txt'\n",
    "\n",
    "def processFile(fileName):\n",
    "    with open(fileName, 'r', encoding='utf-8-sig') as file:\n",
    "        content = file.read().strip()\n",
    "        result = content.split(\"\\n\")\n",
    "        result2 = result[0].split(\"GRID: \")\n",
    "        xAxis = int(result2[1].split(\"x\")[0])\n",
    "        yAxis = int(result2[1].split(\"x\")[1])\n",
    "        size = [xAxis, yAxis]\n",
    "        result3 = result[1].split(\"ARROWS: \")\n",
    "        arrows = int(result3[1])\n",
    "        index = 3\n",
    "        path = result[index]\n",
    "        pathArr = []\n",
    "        while(path != ''):\n",
    "            pathStr = path.strip().split(\"(\")[1].split(\")\")\n",
    "            xVal = int(pathStr[0].split(\",\")[0])\n",
    "            yVal = int(pathStr[0].split(\",\")[1])\n",
    "            breezeVal = pathStr[1].split(\"B:\")[1][0]\n",
    "            stenchVal = pathStr[1].split(\"S:\")[1][0]\n",
    "            pathVal = [(xVal, yVal), breezeVal, stenchVal]\n",
    "            pathArr.append(pathVal)\n",
    "            index+=1\n",
    "            path = result[index]\n",
    "        queryResult = result[index+1].split(\"QUERY: \")[1].split(',')\n",
    "        query = [int(queryResult[0][1:]), int(queryResult[1][:-1])]\n",
    "        resolution = result[index+2].split(\"RESOLUTION:\")[1].strip()\n",
    "        puzzle = WumpusPuzzle(size, arrows, query, resolution, pathArr)\n",
    "        print(size)\n",
    "        print(arrows)\n",
    "        print(pathArr)\n",
    "        print(query)\n",
    "        print(resolution)\n",
    "        return puzzle\n",
    "\n",
    "puzzle = processFile(PuzzleFile)"
   ],
   "id": "477fe00458f8e375",
   "outputs": [
    {
     "name": "stdout",
     "output_type": "stream",
     "text": [
      "[20, 20]\n",
      "2\n",
      "[[(0, 0), 'F', 'F'], [(1, 0), 'F', 'T'], [(2, 0), 'F', 'F'], [(2, 1), 'F', 'T'], [(3, 1), 'F', 'T'], [(4, 1), 'F', 'F'], [(4, 2), 'F', 'T'], [(5, 2), 'F', 'F'], [(5, 3), 'T', 'F'], [(4, 3), 'F', 'F'], [(3, 3), 'T', 'T'], [(2, 3), 'F', 'F'], [(2, 2), 'F', 'T']]\n",
      "[1, 2]\n",
      "SAFE\n"
     ]
    }
   ],
   "execution_count": 96
  },
  {
   "metadata": {
    "tags": [
     "Toy Problem"
    ],
    "ExecuteTime": {
     "end_time": "2025-10-02T19:38:22.198100Z",
     "start_time": "2025-10-02T19:36:55.850366Z"
    }
   },
   "cell_type": "code",
   "source": [
    "KB = {}\n",
    "\n",
    "Tuna = toyVariable(\"Tuna\", None, [], [])\n",
    "Jack = toyVariable(\"Jack\", None, [], [])\n",
    "Curiosity = toyVariable(\"Curiosity\", None, [], [])\n",
    "x = toyVariable(None, True, [], [])\n",
    "fx = toyVariable(None, True, [], [])\n",
    "gx = toyVariable(None, True, [], [])\n",
    "y = toyVariable(None, True, [], [])\n",
    "z = toyVariable(None, True, [], [])\n",
    "\n",
    "\n",
    "\n",
    "p = Predicate([Tuna], Cat)\n",
    "l = Literal(p, True)\n",
    "rule6 = Clause([l], False)\n",
    "\n",
    "p = Predicate([x], Cat)\n",
    "l = Literal(p, False)\n",
    "p = Predicate([x], Animal)\n",
    "l2 = Literal(p, True)\n",
    "rule7 = Clause([l,l2], False)\n",
    "\n",
    "p = Predicate([fx], Animal)\n",
    "l = Literal(p, True)\n",
    "p = Predicate([gx, x], Loves)\n",
    "l2 = Literal(p, True)\n",
    "rule1 = Clause([l,l2], False)\n",
    "\n",
    "\n",
    "p = Predicate([x, fx], Loves)\n",
    "l = Literal(p, False)\n",
    "p = Predicate([gx, x], Loves)\n",
    "l2 = Literal(p, True)\n",
    "rule2 = Clause([l,l2], False)\n",
    "\n",
    "p = Predicate([y, x], Loves)\n",
    "l = Literal(p, False)\n",
    "p = Predicate([z], Animal)\n",
    "l2 = Literal(p, False)\n",
    "p = Predicate([x,z], Kills)\n",
    "l3 = Literal(p, False)\n",
    "rule3 = Clause([l,l2,l3], False)\n",
    "\n",
    "p = Predicate([x], Animal)\n",
    "l = Literal(p, False)\n",
    "p = Predicate([Jack, x], Loves)\n",
    "l2 = Literal(p, True)\n",
    "rule4 = Clause([l,l2], False)\n",
    "\n",
    "p = Predicate([Jack,Tuna], Kills)\n",
    "l = Literal(p, True)\n",
    "p = Predicate([Curiosity,Tuna], Kills)\n",
    "l2 = Literal(p, True)\n",
    "rule5 = Clause([l,l2], False)\n",
    "\n",
    "KB.add(rule1)\n",
    "KB.add(rule2)\n",
    "KB.add(rule3)\n",
    "KB.add(rule4)\n",
    "KB.add(rule5)\n",
    "KB.add(rule6)\n",
    "KB.add(rule7)"
   ],
   "id": "75408b310d3f6a35",
   "outputs": [
    {
     "ename": "KeyboardInterrupt",
     "evalue": "",
     "output_type": "error",
     "traceback": [
      "\u001B[31m---------------------------------------------------------------------------\u001B[39m",
      "\u001B[31mKeyboardInterrupt\u001B[39m                         Traceback (most recent call last)",
      "\u001B[36mCell\u001B[39m\u001B[36m \u001B[39m\u001B[32mIn[98]\u001B[39m\u001B[32m, line 63\u001B[39m\n\u001B[32m     61\u001B[39m KB.append(rule5)\n\u001B[32m     62\u001B[39m KB.append(rule6)\n\u001B[32m---> \u001B[39m\u001B[32m63\u001B[39m \u001B[43mKB\u001B[49m.append(rule7)\n",
      "\u001B[36mFile \u001B[39m\u001B[32mC:\\Program Files\\JetBrains\\PyCharm 2025.2.0.1\\plugins\\python-ce\\helpers\\pydev\\_pydevd_bundle\\pydevd_frame.py:755\u001B[39m, in \u001B[36mPyDBFrame.trace_dispatch\u001B[39m\u001B[34m(self, frame, event, arg)\u001B[39m\n\u001B[32m    753\u001B[39m \u001B[38;5;66;03m# if thread has a suspend flag, we suspend with a busy wait\u001B[39;00m\n\u001B[32m    754\u001B[39m \u001B[38;5;28;01mif\u001B[39;00m info.pydev_state == STATE_SUSPEND:\n\u001B[32m--> \u001B[39m\u001B[32m755\u001B[39m     \u001B[38;5;28;43mself\u001B[39;49m\u001B[43m.\u001B[49m\u001B[43mdo_wait_suspend\u001B[49m\u001B[43m(\u001B[49m\u001B[43mthread\u001B[49m\u001B[43m,\u001B[49m\u001B[43m \u001B[49m\u001B[43mframe\u001B[49m\u001B[43m,\u001B[49m\u001B[43m \u001B[49m\u001B[43mevent\u001B[49m\u001B[43m,\u001B[49m\u001B[43m \u001B[49m\u001B[43marg\u001B[49m\u001B[43m)\u001B[49m\n\u001B[32m    756\u001B[39m     \u001B[38;5;66;03m# No need to reset frame.f_trace to keep the same trace function.\u001B[39;00m\n\u001B[32m    757\u001B[39m     \u001B[38;5;28;01mreturn\u001B[39;00m \u001B[38;5;28mself\u001B[39m.trace_dispatch\n",
      "\u001B[36mFile \u001B[39m\u001B[32mC:\\Program Files\\JetBrains\\PyCharm 2025.2.0.1\\plugins\\python-ce\\helpers\\pydev\\_pydevd_bundle\\pydevd_frame.py:412\u001B[39m, in \u001B[36mPyDBFrame.do_wait_suspend\u001B[39m\u001B[34m(self, *args, **kwargs)\u001B[39m\n\u001B[32m    411\u001B[39m \u001B[38;5;28;01mdef\u001B[39;00m\u001B[38;5;250m \u001B[39m\u001B[34mdo_wait_suspend\u001B[39m(\u001B[38;5;28mself\u001B[39m, *args, **kwargs):\n\u001B[32m--> \u001B[39m\u001B[32m412\u001B[39m     \u001B[38;5;28;43mself\u001B[39;49m\u001B[43m.\u001B[49m\u001B[43m_args\u001B[49m\u001B[43m[\u001B[49m\u001B[32;43m0\u001B[39;49m\u001B[43m]\u001B[49m\u001B[43m.\u001B[49m\u001B[43mdo_wait_suspend\u001B[49m\u001B[43m(\u001B[49m\u001B[43m*\u001B[49m\u001B[43margs\u001B[49m\u001B[43m,\u001B[49m\u001B[43m \u001B[49m\u001B[43m*\u001B[49m\u001B[43m*\u001B[49m\u001B[43mkwargs\u001B[49m\u001B[43m)\u001B[49m\n",
      "\u001B[36mFile \u001B[39m\u001B[32mC:\\Program Files\\JetBrains\\PyCharm 2025.2.0.1\\plugins\\python-ce\\helpers\\pydev\\pydevd.py:1196\u001B[39m, in \u001B[36mPyDB.do_wait_suspend\u001B[39m\u001B[34m(self, thread, frame, event, arg, send_suspend_message, is_unhandled_exception)\u001B[39m\n\u001B[32m   1193\u001B[39m         from_this_thread.append(frame_id)\n\u001B[32m   1195\u001B[39m \u001B[38;5;28;01mwith\u001B[39;00m \u001B[38;5;28mself\u001B[39m._threads_suspended_single_notification.notify_thread_suspended(thread_id, stop_reason):\n\u001B[32m-> \u001B[39m\u001B[32m1196\u001B[39m     \u001B[38;5;28;43mself\u001B[39;49m\u001B[43m.\u001B[49m\u001B[43m_do_wait_suspend\u001B[49m\u001B[43m(\u001B[49m\u001B[43mthread\u001B[49m\u001B[43m,\u001B[49m\u001B[43m \u001B[49m\u001B[43mframe\u001B[49m\u001B[43m,\u001B[49m\u001B[43m \u001B[49m\u001B[43mevent\u001B[49m\u001B[43m,\u001B[49m\u001B[43m \u001B[49m\u001B[43marg\u001B[49m\u001B[43m,\u001B[49m\u001B[43m \u001B[49m\u001B[43msuspend_type\u001B[49m\u001B[43m,\u001B[49m\u001B[43m \u001B[49m\u001B[43mfrom_this_thread\u001B[49m\u001B[43m)\u001B[49m\n",
      "\u001B[36mFile \u001B[39m\u001B[32mC:\\Program Files\\JetBrains\\PyCharm 2025.2.0.1\\plugins\\python-ce\\helpers\\pydev\\pydevd.py:1211\u001B[39m, in \u001B[36mPyDB._do_wait_suspend\u001B[39m\u001B[34m(self, thread, frame, event, arg, suspend_type, from_this_thread)\u001B[39m\n\u001B[32m   1208\u001B[39m             \u001B[38;5;28mself\u001B[39m._call_mpl_hook()\n\u001B[32m   1210\u001B[39m         \u001B[38;5;28mself\u001B[39m.process_internal_commands()\n\u001B[32m-> \u001B[39m\u001B[32m1211\u001B[39m         \u001B[43mtime\u001B[49m\u001B[43m.\u001B[49m\u001B[43msleep\u001B[49m\u001B[43m(\u001B[49m\u001B[32;43m0.01\u001B[39;49m\u001B[43m)\u001B[49m\n\u001B[32m   1213\u001B[39m \u001B[38;5;28mself\u001B[39m.cancel_async_evaluation(get_current_thread_id(thread), \u001B[38;5;28mstr\u001B[39m(\u001B[38;5;28mid\u001B[39m(frame)))\n\u001B[32m   1215\u001B[39m \u001B[38;5;66;03m# process any stepping instructions\u001B[39;00m\n",
      "\u001B[31mKeyboardInterrupt\u001B[39m: "
     ]
    }
   ],
   "execution_count": 98
  },
  {
   "metadata": {},
   "cell_type": "code",
   "outputs": [],
   "execution_count": null,
   "source": "",
   "id": "73d638d4e8a94825"
  }
 ],
 "metadata": {
  "kernelspec": {
   "display_name": "Python 3",
   "language": "python",
   "name": "python3"
  },
  "language_info": {
   "codemirror_mode": {
    "name": "ipython",
    "version": 2
   },
   "file_extension": ".py",
   "mimetype": "text/x-python",
   "name": "python",
   "nbconvert_exporter": "python",
   "pygments_lexer": "ipython2",
   "version": "2.7.6"
  }
 },
 "nbformat": 4,
 "nbformat_minor": 5
}
