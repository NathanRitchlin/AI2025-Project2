{
 "cells": [
  {
   "metadata": {
    "ExecuteTime": {
     "end_time": "2025-10-07T00:16:49.985437Z",
     "start_time": "2025-10-07T00:16:49.976079Z"
    }
   },
   "cell_type": "code",
   "source": [
    "import copy\n",
    "\n",
    "\n",
    "class WumpusPuzzle:\n",
    "    def __init__(self, s, a, q, qa, p):\n",
    "        self.size = s\n",
    "        self.arrows = a\n",
    "        self.query = q\n",
    "        self.queryAnswer = qa\n",
    "        self.path = p"
   ],
   "id": "d6946db872517d05",
   "outputs": [],
   "execution_count": 1
  },
  {
   "metadata": {
    "ExecuteTime": {
     "end_time": "2025-10-07T00:16:50.728927Z",
     "start_time": "2025-10-07T00:16:50.713361Z"
    }
   },
   "cell_type": "code",
   "source": [
    "class Clause:\n",
    "    def __init__(self, l, c):\n",
    "        #list of literals\n",
    "        self.literals = l\n",
    "        #booleans\n",
    "        self.isDisjunction = not c\n",
    "        self.isConjunction = c"
   ],
   "id": "cac233a74161f8e4",
   "outputs": [],
   "execution_count": 2
  },
  {
   "metadata": {
    "ExecuteTime": {
     "end_time": "2025-10-07T00:16:52.807511Z",
     "start_time": "2025-10-07T00:16:52.795726Z"
    }
   },
   "cell_type": "code",
   "source": [
    "class Literal:\n",
    "    def __init__(self, p, n):\n",
    "        #boolean\n",
    "        self.negation = n\n",
    "        #predicate\n",
    "        self.predicate = p\n",
    "\n",
    "    def getValue(self):\n",
    "        if(self.predicate.truthValue == None):\n",
    "            return None\n",
    "        if self.negation:\n",
    "            return self.predicate.truthValue\n",
    "        else:\n",
    "            return not self.predicate.truthValue\n",
    "\n",
    "    def __eq__(self, other):\n",
    "        if self.predicate.equalsOther(other.predicate) and self.negation == other.negation:\n",
    "            return True\n",
    "        else:\n",
    "            return False\n"
   ],
   "id": "613753831688b993",
   "outputs": [],
   "execution_count": 4
  },
  {
   "metadata": {
    "ExecuteTime": {
     "end_time": "2025-10-07T00:16:52.851503Z",
     "start_time": "2025-10-07T00:16:52.844629Z"
    }
   },
   "cell_type": "code",
   "source": [
    "def literalsCancel(literal1, literal2):\n",
    "    if((literal1.predicate.equalsOther(literal2.predicate)) and (literal1.negation != literal2.negation)):\n",
    "        return True\n",
    "    else:\n",
    "        return False\n",
    "\n",
    "def variablesEqual(literal1, literal2):\n",
    "    for var in range(len(literal1.predicate.variables)):\n",
    "            if literal1.predicate.variables[var] != literal2.predicate.variables[var]:\n",
    "                return False\n",
    "    return True"
   ],
   "id": "74278c7fbefb42b9",
   "outputs": [],
   "execution_count": 5
  },
  {
   "metadata": {
    "ExecuteTime": {
     "end_time": "2025-10-07T00:16:52.930219Z",
     "start_time": "2025-10-07T00:16:52.924521Z"
    }
   },
   "cell_type": "code",
   "source": [
    "class Predicate:\n",
    "    def __init__(self, v, func):\n",
    "        self.variables = v\n",
    "        self.function = func\n",
    "        self.truthValue = func(v)\n",
    "\n",
    "    def equalsOther(self, otherPredicate):\n",
    "        if(self.function == otherPredicate.function):\n",
    "            return True\n",
    "        return False\n",
    "\n",
    "    def replaceVariables(self, dict):\n",
    "        print(\"keys:\",dict.keys())\n",
    "        for replacementVariable in dict.keys():\n",
    "            for predVariable in range(len(self.variables)):\n",
    "                print()\n",
    "                if(self.variables[predVariable] == replacementVariable):\n",
    "                    print(self.variables[predVariable])\n",
    "                    self.variables[predVariable] = dict[replacementVariable]\n",
    "                    print(self.variables[predVariable])\n"
   ],
   "id": "754d3a0bc25a7cd7",
   "outputs": [],
   "execution_count": 6
  },
  {
   "metadata": {
    "ExecuteTime": {
     "end_time": "2025-10-07T00:16:52.992131Z",
     "start_time": "2025-10-07T00:16:52.987856Z"
    }
   },
   "cell_type": "code",
   "source": [
    "def Cat(value):\n",
    "    if(value[0].name == 'Tuna'):\n",
    "        return True\n",
    "    if(value[0].name == None):\n",
    "        return None\n",
    "    return False\n"
   ],
   "id": "dcd9218e92997af7",
   "outputs": [],
   "execution_count": 7
  },
  {
   "metadata": {
    "ExecuteTime": {
     "end_time": "2025-10-07T00:16:53.031052Z",
     "start_time": "2025-10-07T00:16:53.027881Z"
    }
   },
   "cell_type": "code",
   "source": [
    "def Loves(values):\n",
    "    if(values[1] in values[0].loves):\n",
    "        return True\n",
    "    return False\n"
   ],
   "id": "c49dc7f7bc183a19",
   "outputs": [],
   "execution_count": 8
  },
  {
   "metadata": {
    "ExecuteTime": {
     "end_time": "2025-10-07T00:16:53.075354Z",
     "start_time": "2025-10-07T00:16:53.072342Z"
    }
   },
   "cell_type": "code",
   "source": [
    "def Animal(values):\n",
    "    if(values[0].isAnimal):\n",
    "        return True\n",
    "    return False"
   ],
   "id": "5d4e7c39f66c7ade",
   "outputs": [],
   "execution_count": 9
  },
  {
   "metadata": {
    "ExecuteTime": {
     "end_time": "2025-10-07T00:16:53.099421Z",
     "start_time": "2025-10-07T00:16:53.095994Z"
    }
   },
   "cell_type": "code",
   "source": [
    "def Kills(values):\n",
    "    if(values[1] in values[0].kills):\n",
    "        return True\n",
    "    return False"
   ],
   "id": "80a1547172637f04",
   "outputs": [],
   "execution_count": 10
  },
  {
   "metadata": {
    "ExecuteTime": {
     "end_time": "2025-10-07T00:16:53.112092Z",
     "start_time": "2025-10-07T00:16:53.109192Z"
    }
   },
   "cell_type": "code",
   "source": [
    "class toyVariable:\n",
    "    def __init__(self, n, a, l, k, v):\n",
    "        #string\n",
    "        self.name = n\n",
    "        #boolean\n",
    "        self.isAnimal = a\n",
    "        #lists\n",
    "        self.loves = l\n",
    "        self.kills = k\n",
    "        self.isVariable = v\n",
    "\n",
    "    def __str__(self):\n",
    "        return self.name\n",
    "\n",
    "    def __repr__(self):\n",
    "        return self.name\n"
   ],
   "id": "17dfc899e6038a6f",
   "outputs": [],
   "execution_count": 11
  },
  {
   "metadata": {
    "ExecuteTime": {
     "end_time": "2025-10-07T00:16:53.128850Z",
     "start_time": "2025-10-07T00:16:53.121140Z"
    }
   },
   "cell_type": "code",
   "source": [
    "def resolution(KB, query):\n",
    "    clauses = copy.deepcopy(KB)\n",
    "    clauses.append(query)\n",
    "    new = set()\n",
    "    while(True):\n",
    "        clausePairs = set()\n",
    "        #setting up all pairs of clauses\n",
    "        for clause in clauses:\n",
    "            for clause2 in clauses:\n",
    "                if(clause != clause2):\n",
    "                    clausePairs.add([clause, clause2])\n",
    "        for pair in clausePairs:\n",
    "            resolvents = resolve(pair[0], pair[1])\n",
    "            if(resolvents == None):\n",
    "                return True\n",
    "            else:\n",
    "                new.add(resolvents)\n",
    "        if(new.issubset(clauses)):\n",
    "            return False\n",
    "        clauses = clauses.union(new)\n",
    "\n",
    "\n",
    "\n",
    "def resolve(clause1, clause2):\n",
    "    returnedClauses = []\n",
    "    for literal1 in clause1.literals:\n",
    "        for literal2 in clause2.literals:\n",
    "            if(literalsCancel(literal1,literal2)):\n",
    "                theta = {}\n",
    "                theta = unify(literal1, literal2, theta)\n",
    "                print(theta)\n",
    "                if(theta != \"fail\"):\n",
    "                    #replacing with substitutions\n",
    "                    for literalSub1 in clause1.literals:\n",
    "                        for literalSub2 in clause2.literals:\n",
    "                            print(\"variables being replaced\")\n",
    "                            print(theta)\n",
    "                            literalSub1.predicate.replaceVariables(theta)\n",
    "                            literalSub2.predicate.replaceVariables(theta)\n",
    "                if(variablesEqual(literal1, literal2)):\n",
    "                    clause1.literals.remove(literal1)\n",
    "                    clause2.literals.remove(literal2)\n",
    "    if len(clause1.literals) != 0:\n",
    "        returnedClauses.append(clause1)\n",
    "    if len(clause2.literals) != 0:\n",
    "        returnedClauses.append(clause2)\n",
    "    return returnedClauses\n",
    "\n",
    "\n",
    "\n",
    "\n",
    "\n"
   ],
   "id": "af29a8793ab011fb",
   "outputs": [],
   "execution_count": 12
  },
  {
   "cell_type": "code",
   "source": [
    "# Perform substitution to make x and y the same\n",
    "def unify(x, y, theta):\n",
    "    if theta == \"fail\":\n",
    "        return \"fail\"\n",
    "\n",
    "    if (x is y):\n",
    "        return theta\n",
    "\n",
    "    elif (isinstance(x,toyVariable) and x.isVariable):\n",
    "        return unifyVar(x, y, theta)\n",
    "    elif (isinstance(y,toyVariable) and y.isVariable):\n",
    "        return unifyVar(y, x, theta)\n",
    "\n",
    "    elif isinstance(x, Predicate) and isinstance(y, Predicate):\n",
    "        if x.function != y.function or len(x.variables) != len(y.variables):\n",
    "            return \"fail\"\n",
    "        return unify(x.variables, y.variables, theta)\n",
    "\n",
    "    elif isinstance(x, Literal) and isinstance(y, Literal):\n",
    "        return unify(x.predicate, y.predicate, theta)\n",
    "\n",
    "    elif isinstance(x, Clause) and isinstance(y, Clause):\n",
    "        if len(x.literals) != len(y.literals):\n",
    "            return \"fail\"\n",
    "        for l1, l2 in zip(x.literals, y.literals):\n",
    "            theta = unify(l1.predicate, l2.predicate, theta)\n",
    "\n",
    "        return theta\n",
    "\n",
    "    elif isinstance(x, list) and isinstance(y, list):\n",
    "        if len(x) != len(y):\n",
    "            return \"fail\"\n",
    "        for i, j in zip(x, y):\n",
    "            theta = unify(i, j, theta)\n",
    "            if theta == \"fail\":\n",
    "                return \"fail\"\n",
    "        return theta\n",
    "\n",
    "    else:\n",
    "        return \"fail\"\n",
    "\n",
    "\n",
    "\n",
    "\n",
    "def unifyVar(var, x, theta):\n",
    "    if var in theta:\n",
    "        return unify(theta[var],x,theta)\n",
    "    elif x in theta:\n",
    "        return unify(var,theta[x],theta)\n",
    "    #Maybe need to have the occur-check call here and write occur-check function? Says not always done in the textbook\n",
    "    else:\n",
    "        new = theta.copy()\n",
    "        new[var] = x\n",
    "        return new\n",
    "\n",
    "\n",
    "\n",
    "def unifyV2(literal1, literal2):\n",
    "    if(literal1.predicate.variables == literal2.predicate.variables):\n",
    "        return True\n",
    "    else:\n",
    "        newLit1 = copy.deepcopy(literal1)\n",
    "        newLit2 = copy.deepcopy(literal2)\n",
    "        for i in range(len(literal1.predicate.variables)):\n",
    "            if(literal1.predicate.variables[i].isVariable):\n",
    "                newLit1.predicate.variables[i] = literal2.predicate.variables[i]\n",
    "            elif(literal1.predicate.variables[i] != literal2.predicate.variables[i]):\n",
    "                if(literal2.predicate.variables[i].isVariable):\n",
    "                    newLit2.predicate.variables[i] = literal1.predicate.variables[i]\n",
    "                else:\n",
    "                    return False\n",
    "        return True\n",
    "\n"
   ],
   "metadata": {
    "collapsed": false,
    "ExecuteTime": {
     "end_time": "2025-10-07T00:16:53.144627Z",
     "start_time": "2025-10-07T00:16:53.138590Z"
    }
   },
   "id": "b2669d15686b48c4",
   "outputs": [],
   "execution_count": 13
  },
  {
   "metadata": {
    "collapsed": true,
    "ExecuteTime": {
     "end_time": "2025-10-07T00:16:53.163609Z",
     "start_time": "2025-10-07T00:16:53.157037Z"
    }
   },
   "cell_type": "code",
   "source": [
    "PuzzleFile = 'Caves/_wumpus_paths_/easy/path_e3.txt'\n",
    "\n",
    "def processFile(fileName):\n",
    "    with open(fileName, 'r', encoding='utf-8-sig') as file:\n",
    "        content = file.read().strip()\n",
    "        result = content.split(\"\\n\")\n",
    "        result2 = result[0].split(\"GRID: \")\n",
    "        xAxis = int(result2[1].split(\"x\")[0])\n",
    "        yAxis = int(result2[1].split(\"x\")[1])\n",
    "        size = [xAxis, yAxis]\n",
    "        result3 = result[1].split(\"ARROWS: \")\n",
    "        arrows = int(result3[1])\n",
    "        index = 3\n",
    "        path = result[index]\n",
    "        pathArr = []\n",
    "        while(path != ''):\n",
    "            pathStr = path.strip().split(\"(\")[1].split(\")\")\n",
    "            xVal = int(pathStr[0].split(\",\")[0])\n",
    "            yVal = int(pathStr[0].split(\",\")[1])\n",
    "            breezeVal = pathStr[1].split(\"B:\")[1][0]\n",
    "            stenchVal = pathStr[1].split(\"S:\")[1][0]\n",
    "            pathVal = [(xVal, yVal), breezeVal, stenchVal]\n",
    "            pathArr.append(pathVal)\n",
    "            index+=1\n",
    "            path = result[index]\n",
    "        queryResult = result[index+1].split(\"QUERY: \")[1].split(',')\n",
    "        query = [int(queryResult[0][1:]), int(queryResult[1][:-1])]\n",
    "        resolution = result[index+2].split(\"RESOLUTION:\")[1].strip()\n",
    "        puzzle = WumpusPuzzle(size, arrows, query, resolution, pathArr)\n",
    "        print(size)\n",
    "        print(arrows)\n",
    "        print(pathArr)\n",
    "        print(query)\n",
    "        print(resolution)\n",
    "        return puzzle\n",
    "\n",
    "puzzle = processFile(PuzzleFile)"
   ],
   "id": "477fe00458f8e375",
   "outputs": [
    {
     "name": "stdout",
     "output_type": "stream",
     "text": [
      "[20, 20]\n",
      "2\n",
      "[[(0, 0), 'F', 'F'], [(1, 0), 'F', 'T'], [(2, 0), 'F', 'F'], [(2, 1), 'F', 'T'], [(3, 1), 'F', 'T'], [(4, 1), 'F', 'F'], [(4, 2), 'F', 'T'], [(5, 2), 'F', 'F'], [(5, 3), 'T', 'F'], [(4, 3), 'F', 'F'], [(3, 3), 'T', 'T'], [(2, 3), 'F', 'F'], [(2, 2), 'F', 'T']]\n",
      "[1, 2]\n",
      "SAFE\n"
     ]
    }
   ],
   "execution_count": 14
  },
  {
   "metadata": {
    "tags": [
     "Toy Problem"
    ],
    "ExecuteTime": {
     "end_time": "2025-10-07T00:17:52.502912Z",
     "start_time": "2025-10-07T00:17:52.462808Z"
    }
   },
   "cell_type": "code",
   "source": [
    "\n",
    "\n",
    "KB = set()\n",
    "\n",
    "Tuna = toyVariable(\"Tuna\", None, [], [], False)\n",
    "Jack = toyVariable(\"Jack\", None, [], [], False)\n",
    "Curiosity = toyVariable(\"Curiosity\", None, [], [], False)\n",
    "x = toyVariable(\"x\", True, [], [], True)\n",
    "fx = toyVariable(\"fx\", True, [], [], True)\n",
    "gx = toyVariable(\"gx\", True, [], [], True)\n",
    "y = toyVariable(\"y\", True, [], [], True)\n",
    "z = toyVariable(\"z\", True, [], [], True)\n",
    "\n",
    "\n",
    "\n",
    "p = Predicate([Tuna], Cat)\n",
    "l = Literal(p, True)\n",
    "rule6 = Clause([l], False)\n",
    "\n",
    "p = Predicate([x], Cat)\n",
    "l = Literal(p, False)\n",
    "p = Predicate([x], Animal)\n",
    "l2 = Literal(p, True)\n",
    "rule7 = Clause([l,l2], False)\n",
    "\n",
    "p = Predicate([fx], Animal)\n",
    "l = Literal(p, True)\n",
    "p = Predicate([gx, x], Loves)\n",
    "l2 = Literal(p, True)\n",
    "rule1 = Clause([l,l2], False)\n",
    "\n",
    "\n",
    "p = Predicate([x, fx], Loves)\n",
    "l = Literal(p, False)\n",
    "p = Predicate([gx, x], Loves)\n",
    "l2 = Literal(p, True)\n",
    "rule2 = Clause([l,l2], False)\n",
    "\n",
    "p = Predicate([y, x], Loves)\n",
    "l = Literal(p, False)\n",
    "p = Predicate([z], Animal)\n",
    "l2 = Literal(p, False)\n",
    "p = Predicate([x,z], Kills)\n",
    "l3 = Literal(p, False)\n",
    "rule3 = Clause([l,l2,l3], False)\n",
    "\n",
    "p = Predicate([x], Animal)\n",
    "l = Literal(p, False)\n",
    "p = Predicate([Jack, x], Loves)\n",
    "l2 = Literal(p, True)\n",
    "rule4 = Clause([l,l2], False)\n",
    "\n",
    "p = Predicate([Jack,Tuna], Kills)\n",
    "l = Literal(p, True)\n",
    "p = Predicate([Curiosity,Tuna], Kills)\n",
    "l2 = Literal(p, True)\n",
    "rule5 = Clause([l,l2], False)\n",
    "\n",
    "KB.add(rule1)\n",
    "KB.add(rule2)\n",
    "KB.add(rule3)\n",
    "KB.add(rule4)\n",
    "KB.add(rule5)\n",
    "KB.add(rule6)\n",
    "KB.add(rule7)\n",
    "\n",
    "p = Predicate([Curiosity, Tuna], Kills)\n",
    "l = Literal(p, False)\n",
    "query = Clause([l], False)\n",
    "\n",
    "#Testing literal cancel checking function\n",
    "p = Predicate([Jack,Tuna], Kills)\n",
    "l = Literal(p, True)\n",
    "p = Predicate([Jack,Tuna], Kills)\n",
    "l2 = Literal(p, False)\n",
    "print(literalsCancel(l,l2))\n",
    "\n",
    "#Testing unification\n",
    "# Variables\n",
    "i = toyVariable(\"i\", True, [], [], True)\n",
    "j = toyVariable(\"j\", True, [], [], True)\n",
    "Cow = toyVariable(\"Cow\", None, [], [], False)\n",
    "\n",
    "p1 = Predicate([j, Cow], Cat)\n",
    "p2 = Predicate([j, i], Cat)\n",
    "p3 = Predicate([i], Cat)\n",
    "\n",
    "# Literals\n",
    "l1 = Literal(p1, False)\n",
    "l2 = Literal(p2, False)\n",
    "l3 = Literal(p3, True)\n",
    "\n",
    "# Clauses\n",
    "c1 = Clause([l1], False)\n",
    "c2 = Clause([l2], False)\n",
    "c3 = Clause([l2, l3], False)\n",
    "\n",
    "# --- Test ---\n",
    "theta = {}\n",
    "print(\"Unify Literals:\", unify(l1, l2, theta))\n",
    "print(\"Unify Predicates:\", unify(p1, p2, theta))\n",
    "print(\"Unify Clauses:\")\n",
    "for l in rule7.literals:\n",
    "    for l2 in rule6.literals:\n",
    "        print(unify(l, l2, theta))\n",
    "\n",
    "newClauses = resolve(rule5, query)[0]\n",
    "print(newClauses)\n"
   ],
   "id": "75408b310d3f6a35",
   "outputs": [
    {
     "name": "stdout",
     "output_type": "stream",
     "text": [
      "True\n",
      "Unify Literals: {i: Cow}\n",
      "Unify Predicates: {i: Cow}\n",
      "Unify Clauses:\n",
      "{x: Tuna}\n",
      "fail\n",
      "fail\n",
      "{}\n",
      "variables being replaced\n",
      "{}\n",
      "keys: dict_keys([])\n",
      "keys: dict_keys([])\n",
      "variables being replaced\n",
      "{}\n",
      "keys: dict_keys([])\n",
      "keys: dict_keys([])\n",
      "<__main__.Clause object at 0x000001FB776DE990>\n"
     ]
    }
   ],
   "execution_count": 21
  },
  {
   "metadata": {
    "ExecuteTime": {
     "end_time": "2025-10-07T00:16:53.278201Z",
     "start_time": "2025-10-07T00:16:53.275782Z"
    }
   },
   "cell_type": "code",
   "source": "",
   "id": "73d638d4e8a94825",
   "outputs": [],
   "execution_count": null
  }
 ],
 "metadata": {
  "kernelspec": {
   "display_name": "Python 3",
   "language": "python",
   "name": "python3"
  },
  "language_info": {
   "codemirror_mode": {
    "name": "ipython",
    "version": 2
   },
   "file_extension": ".py",
   "mimetype": "text/x-python",
   "name": "python",
   "nbconvert_exporter": "python",
   "pygments_lexer": "ipython2",
   "version": "2.7.6"
  }
 },
 "nbformat": 4,
 "nbformat_minor": 5
}
